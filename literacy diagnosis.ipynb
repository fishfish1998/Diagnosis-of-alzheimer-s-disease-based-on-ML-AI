{
 "cells": [
  {
   "cell_type": "code",
   "execution_count": 82,
   "metadata": {
    "collapsed": true
   },
   "outputs": [],
   "source": [
    "from aip import AipNlp\n",
    "import codecs\n",
    "import paramiko\n",
    "import jieba\n",
    "import time\n",
    "import pandas as pd"
   ]
  },
  {
   "cell_type": "code",
   "execution_count": 83,
   "metadata": {
    "collapsed": true
   },
   "outputs": [],
   "source": [
    "hostname='127.11.173.184'\n",
    "port=22\n",
    "username='hzm123'\n",
    "password='Adobe20160706'\n",
    "APP_ID = \"17356269\"\n",
    "API_KEY = \"G21lPBZCaaXbaQcU3vkwHL8S\"\n",
    "SECRET_KEY = \"4Lou8RcG8Av6YGxE7qBijeCT2WcdeTm1\"\n",
    "cri=['VOB','SBV','CMP']"
   ]
  },
  {
   "cell_type": "code",
   "execution_count": 84,
   "metadata": {
    "collapsed": true
   },
   "outputs": [],
   "source": [
    "def connection(hostname,port,username,password):\n",
    "    ssh=paramiko.SSHClient()\n",
    "    ssh.set_missing_host_key_policy(paramiko.AutoAddPolicy())\n",
    "    ssh.connect(hostname=hostname,port=port,username=username,password=password)\n",
    "    transport = paramiko.Transport((hostname,port))\n",
    "    transport.connect(username=username, password=password)\n",
    "    sftp = paramiko.SFTPClient.from_transport(transport)\n",
    "    return ssh,sftp"
   ]
  },
  {
   "cell_type": "code",
   "execution_count": 85,
   "metadata": {
    "collapsed": true
   },
   "outputs": [],
   "source": [
    "def in_sen(sentence):\n",
    "    f = codecs.open('test.txt','w+',encoding='utf-8')#必须事先知道文件的编码格式，这里文件编码是使用的utf-8 \n",
    "    #sentence=input('请输入一句话：');\n",
    "    sentence=sentence;\n",
    "    sentence1=jieba.cut(sentence)\n",
    "    sentence2=jieba.cut(sentence)\n",
    "    f.write(' '.join(sentence1)) \n",
    "    f.close()\n",
    "    ss=[]\n",
    "    for s in sentence2:\n",
    "        ss.append(s)\n",
    "    num=len(ss)\n",
    "    return num"
   ]
  },
  {
   "cell_type": "code",
   "execution_count": 86,
   "metadata": {
    "collapsed": true
   },
   "outputs": [],
   "source": [
    "def cal_ppl(ssh,sftp,num):\n",
    "    ssh=ssh;sftp=sftp;\n",
    "    try:\n",
    "        sftp.put('test.txt','/home/hzm123/test.txt')\n",
    "    except:\n",
    "        client=connection(hostname,port,username,password); ssh=client[0];sftp=client[1];\n",
    "    cmd1='export PATH=$PATH:/home/hzm123/srilm;export PATH=$PATH:/home/hzm123/srilm/bin/i686-m64/;echo $PATH;ngram -ppl test.txt -debug 1 -order 3 -lm my.lm &>> result.txt'\n",
    "    cmd2='rm test_ljq.txt'\n",
    "    cmd3='rm result.txt '\n",
    "    stdin, stdout, stderr = ssh.exec_command(cmd1)\n",
    "\n",
    "    time.sleep(30)\n",
    "    sftp.get('/home/hzm123/result.txt','result.txt')\n",
    "    stdin, stdout, stderr = ssh.exec_command(cmd2)\n",
    "    stdin, stdout, stderr = ssh.exec_command(cmd3)\n",
    "    \n",
    "    f_p1=codecs.open('result.txt','r+',encoding='utf-8') \n",
    "    lines = f_p1.readlines()     \n",
    "    f_p1.close()\n",
    "    \n",
    "    i1=lines[5].find('ppl')\n",
    "    i2=lines[5].find('ppl1')\n",
    "    #print(i1,i2)\n",
    "    #print(float(lines[5][i1+5:i2-1]))\n",
    "   \n",
    "    ppl=float(lines[5][i1+5:i2-1])/num\n",
    "    return ppl\n",
    "    "
   ]
  },
  {
   "cell_type": "code",
   "execution_count": 87,
   "metadata": {
    "collapsed": true
   },
   "outputs": [],
   "source": [
    "def meaning(sentence,ssh,sftp):\n",
    "    sentence=sentence;ssh=ssh;sftp=sftp;\n",
    "    num=in_sen(sentence);\n",
    "    ppl=cal_ppl(ssh,sftp,num);\n",
    "    return ppl"
   ]
  },
  {
   "cell_type": "code",
   "execution_count": 88,
   "metadata": {
    "collapsed": true
   },
   "outputs": [],
   "source": [
    "def syntax(sentence):\n",
    "    client_syn= AipNlp(APP_ID, API_KEY, SECRET_KEY)\n",
    "    struc=client_syn.depParser(sentence)\n",
    "    li=pd.DataFrame(struc['items'])\n",
    "    core=li[li['deprel']=='HED'].id\n",
    "    test=li[li['head']==int(core)]['deprel'].values\n",
    "    test=test.tolist()\n",
    "    ingre_test=set(test).intersection(set(cri))\n",
    "    if ingre_test:\n",
    "        return True\n",
    "    else:\n",
    "        return False"
   ]
  },
  {
   "cell_type": "code",
   "execution_count": 89,
   "metadata": {},
   "outputs": [
    {
     "name": "stdout",
     "output_type": "stream",
     "text": [
      "请输入一句话：我今天要上自习\n",
      "您写的句子是可理解的\n"
     ]
    }
   ],
   "source": [
    "if __name__ == \"__main__\":\n",
    "    try:\n",
    "        client=connection(hostname,port,username,password); ssh=client[0];sftp=client[1];\n",
    "    except:\n",
    "        print(\"连接失败，请检查服务器状态\")\n",
    "    sentence=input('请输入一句话：');\n",
    "    ppl=meaning(sentence,ssh,sftp)\n",
    "    syn=syntax(sentence)\n",
    "    if ppl<1100 and syn:\n",
    "        print(\"您写的句子是可理解的\")\n",
    "    else:\n",
    "        print(\"抱歉，您写的句子不能被理解：\")\n",
    "        if syn==False:\n",
    "            print(\"句子缺少成分\")\n",
    "        if ppl>=1100:\n",
    "            print(\"句子意思不明确，困惑度为：\",ppl)"
   ]
  },
  {
   "cell_type": "code",
   "execution_count": null,
   "metadata": {
    "collapsed": true
   },
   "outputs": [],
   "source": []
  }
 ],
 "metadata": {
  "kernelspec": {
   "display_name": "Python [conda env:py36]",
   "language": "python",
   "name": "conda-env-py36-py"
  },
  "language_info": {
   "codemirror_mode": {
    "name": "ipython",
    "version": 3
   },
   "file_extension": ".py",
   "mimetype": "text/x-python",
   "name": "python",
   "nbconvert_exporter": "python",
   "pygments_lexer": "ipython3",
   "version": "3.6.2"
  }
 },
 "nbformat": 4,
 "nbformat_minor": 2
}
