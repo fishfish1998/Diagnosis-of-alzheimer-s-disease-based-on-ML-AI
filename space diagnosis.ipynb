{
 "cells": [
  {
   "cell_type": "code",
   "execution_count": 1,
   "metadata": {
    "collapsed": true
   },
   "outputs": [],
   "source": [
    "#coding=utf-8  \n",
    "#import numpy as np \n",
    "import cv2\n",
    "import dlib\n",
    "from scipy.spatial import distance\n",
    "import os\n",
    "from imutils import face_utils\n",
    "import time\n",
    "from tkinter import *\n",
    "import tkinter.messagebox\n",
    "import tkinter as tk\n",
    "from PIL import Image,ImageTk\n",
    "import winsound"
   ]
  },
  {
   "cell_type": "code",
   "execution_count": 2,
   "metadata": {
    "collapsed": true
   },
   "outputs": [],
   "source": [
    "detector = dlib.get_frontal_face_detector()# 人脸检测器\n",
    "predictor = dlib.shape_predictor('shape_predictor_68_face_landmarks.dat')# 人脸特征点检测器\n"
   ]
  },
  {
   "cell_type": "code",
   "execution_count": 3,
   "metadata": {
    "collapsed": true
   },
   "outputs": [],
   "source": [
    "EYE_AR_THRESH = 0.22# EAR阈值\n",
    "EYE_AR_CONSEC_FRAMES = 20# 当EAR小于阈值时，接连多少帧算作进行了闭眼。本机帧率约为729fps\n",
    "\n",
    "# 对应特征点的序号\n",
    "RIGHT_EYE_START = 37 - 1\n",
    "RIGHT_EYE_END = 42 - 1\n",
    "LEFT_EYE_START = 43 - 1\n",
    "LEFT_EYE_END = 48 - 1\n",
    "\n",
    "#播放的声音的频率和时间\n",
    "duration = 600  # millisecond\n",
    "freq_yes = 500  # 测试通过\n",
    "freq_no=220;#测试不通过\n"
   ]
  },
  {
   "cell_type": "code",
   "execution_count": 4,
   "metadata": {
    "collapsed": true
   },
   "outputs": [],
   "source": [
    "def eye_aspect_ratio(eye):\n",
    "    # print(eye)\n",
    "    A = distance.euclidean(eye[1], eye[5])\n",
    "    B = distance.euclidean(eye[2], eye[4])\n",
    "    C = distance.euclidean(eye[0], eye[3])\n",
    "    ear1 = (A + B) / (2.0 * C)\n",
    "    return ear1"
   ]
  },
  {
   "cell_type": "code",
   "execution_count": 5,
   "metadata": {},
   "outputs": [],
   "source": [
    "frame_counter = 0# 连续帧计数 \n",
    "close_eye = 0# 眨眼计数\n",
    "on_hit = False\n",
    "def video_loop():\n",
    "    global frame_counter\n",
    "    global close_eye\n",
    "    global time_ori\n",
    "    global on_hit\n",
    "    #global ear\n",
    "    success, img = camera.read()  # 从摄像头读取照片\n",
    "    if success:\n",
    "        if on_hit:\n",
    "            cv2.waitKey(1)\n",
    "            gray = cv2.cvtColor(img, cv2.COLOR_BGR2GRAY)# 转成灰度图像\n",
    "            rects = detector(gray, 0)# 人脸检测\n",
    "            for rect in rects:# 遍历每一个人脸（实际应该只有一个）\n",
    "                shape = predictor(gray, rect)# 检测特征点\n",
    "                points = face_utils.shape_to_np(shape)# convert the facial landmark (x, y)-coordinates to a NumPy array\n",
    "                leftEye = points[LEFT_EYE_START:LEFT_EYE_END + 1]# 取出左眼对应的特征点\n",
    "                rightEye = points[RIGHT_EYE_START:RIGHT_EYE_END + 1]# 取出右眼对应的特征点\n",
    "                leftEAR = eye_aspect_ratio(leftEye)# 计算左眼EAR\n",
    "                rightEAR = eye_aspect_ratio(rightEye)# 计算右眼EAR\n",
    "                ear = (leftEAR + rightEAR) / 2.0# 求左右眼EAR的均值\n",
    "                leftEyeHull = cv2.convexHull(leftEye)# 寻找左眼轮廓\n",
    "                rightEyeHull = cv2.convexHull(rightEye)# 寻找右眼轮廓\n",
    "                cv2.drawContours(img, [leftEyeHull], -1, (0, 255, 0), 1)# 绘制左眼轮廓\n",
    "                cv2.drawContours(img, [rightEyeHull], -1, (0, 255, 0), 1)# 绘制右眼轮始计算连续帧，只有连续帧计数超过EYE_AR_CONSEC_FRAMES时，才会计做一次眨眼\n",
    "                if ear < EYE_AR_THRESH:\n",
    "                    frame_counter +=1 \n",
    "            if frame_counter >= EYE_AR_CONSEC_FRAMES:\n",
    "#                 close_eye += 1\n",
    "#                 frame_counter = 0\n",
    "                winsound.Beep(freq_yes, duration)#提示音，医生可以及时关闭程序\n",
    "                r=tkinter.messagebox.showinfo(title='闭眼检测', message='指令完成，测试通过！')  \n",
    "                print(r)\n",
    "                frame_counter=0;\n",
    "                var.set('')\n",
    "                var1.set('开始检测')\n",
    "                del rects\n",
    "                on_hit=False;\n",
    "            time_now=time.time()#当前的时间戳\n",
    "            if time_now-time_ori>=30 and on_hit:#时间超过30秒，认为测试不通过\n",
    "                winsound.Beep(freq_no, duration)\n",
    "                r=tk.messagebox.showerror(title='闭眼检测', message='时间已到，测试不通过！')  \n",
    "                print(r)\n",
    "                del rects\n",
    "                var.set('')\n",
    "                var1.set('开始检测')\n",
    "                on_hit=False;\n",
    "            cv2.putText(img, \"Close_num:{0}\".format(close_eye), (10, 30), cv2.FONT_HERSHEY_SIMPLEX, 0.7, (0,0,255), 2)\n",
    "        #cv2.putText(img, \"EAR:{:.2f}\".format(ear), (300, 30), cv2.FONT_HERSHEY_SIMPLEX, 0.7, (0,0,255), 2)   \n",
    "        cv2image = cv2.cvtColor(img, cv2.COLOR_BGR2RGBA)#转换颜色从BGR到RGBA\n",
    "        current_image = Image.fromarray(cv2image)#将图像转换成Image对象\n",
    "        imgtk = ImageTk.PhotoImage(image=current_image)\n",
    "        panel.imgtk = imgtk\n",
    "        panel.config(image=imgtk)\n",
    "        root.after(1, video_loop)\n",
    "        \n",
    "camera = cv2.VideoCapture(0)    #摄像头\n",
    "root = Tk()\n",
    "root.title(\"闭眼检测\")\n",
    "#root.protocol('WM_DELETE_WINDOW', detector)\n",
    "panel = Label(root)  # initialize image panel\n",
    "panel.pack(padx=4, pady=6)\n",
    "var = tk.StringVar()    # 将label标签的内容设置为字符类型，用var来接收hit_me函数的传出内容用以显示在标签上\n",
    "var1 = tk.StringVar()\n",
    "l = tk.Label(root, textvariable=var, bg='white', font=('Arial',40), width=18, height=4)\n",
    "l.pack()\n",
    "var1.set('开始检测')\n",
    "#l = tk.Label(window, textvariable=var, bg='green', fg='white', font=('Arial', 12), width=30, height=2)\n",
    "def hit_me():\n",
    "    global on_hit\n",
    "    global time_ori;\n",
    "    if on_hit == False:\n",
    "        on_hit = True\n",
    "        time_ori=time.time()#开始运行时的时间戳\n",
    "        var.set('您好，请闭上您的眼睛')\n",
    "        var1.set('检测中')\n",
    "#b = tk.Button(root, text='开始检测', font=('Arial', 12), width=10, height=1, command=hit_me)\n",
    "b = tk.Button(root, textvariable=var1, font=('Arial', 12), width=10, height=2, command=hit_me)\n",
    "b.pack()\n",
    "root.config(cursor=\"arrow\")\n",
    "\n",
    "video_loop()\n",
    "\n",
    "root.mainloop()\n",
    "\n",
    "camera.release()\n",
    "cv2.destroyAllWindows()\n",
    " "
   ]
  },
  {
   "cell_type": "code",
   "execution_count": null,
   "metadata": {
    "collapsed": true
   },
   "outputs": [],
   "source": []
  }
 ],
 "metadata": {
  "kernelspec": {
   "display_name": "Python [conda env:py36]",
   "language": "python",
   "name": "conda-env-py36-py"
  },
  "language_info": {
   "codemirror_mode": {
    "name": "ipython",
    "version": 3
   },
   "file_extension": ".py",
   "mimetype": "text/x-python",
   "name": "python",
   "nbconvert_exporter": "python",
   "pygments_lexer": "ipython3",
   "version": "3.6.2"
  }
 },
 "nbformat": 4,
 "nbformat_minor": 2
}
